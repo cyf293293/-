{
 "cells": [
  {
   "cell_type": "markdown",
   "metadata": {},
   "source": [
    "### Python内置的常用数据结构\n",
    "* 列表（list）\n",
    "* 元组（tuple）\n",
    "* Range\n",
    "* 字典（dict）\n",
    "* 集合（set）"
   ]
  },
  {
   "cell_type": "markdown",
   "metadata": {},
   "source": [
    "### 列表（list）\n",
    "* 方括号括起来的一组元素，元素可以是变量，常量或者其他Python对象（object），元素之间用逗号分隔。\n",
    "* 列表类似于数组，但是没有固定大小，元素也没有类型限制。\n",
    "* 可以利用[]和下标访问列表中的元素。\n",
    "* 小标的起始值为0，若为负数时，即为倒序引用。\n",
    "* 列表元素的值可以修改，也可以利用列表给多个变量赋值。\n",
    "* 列表元素也可以是列表或者其他的数据结构。\n"
   ]
  },
  {
   "cell_type": "code",
   "execution_count": 3,
   "metadata": {},
   "outputs": [
    {
     "name": "stdout",
     "output_type": "stream",
     "text": [
      "1 2 20\n",
      "[2, 3] [1, 2, 3] [4, 5, 6, 17, 18, 19, 20]\n"
     ]
    }
   ],
   "source": [
    "a=[1,2,3,4,5,6,17,18,19,20]\n",
    "print(a[0],a[1],a[-1])\n",
    "print(a[1:3],a[:3],a[3:])"
   ]
  },
  {
   "cell_type": "code",
   "execution_count": 5,
   "metadata": {},
   "outputs": [
    {
     "name": "stdout",
     "output_type": "stream",
     "text": [
      "1 2 True\n",
      "[2, 'a'] [1, 2, 'a'] ['abc', None, True]\n"
     ]
    }
   ],
   "source": [
    "a=[1,2,'a','abc',None,True]\n",
    "print(a[0],a[1],a[-1])\n",
    "print(a[1:3],a[:3],a[3:])"
   ]
  },
  {
   "cell_type": "markdown",
   "metadata": {},
   "source": [
    "### 列表允许的操作\n",
    "<table>\n",
    "    <tr>\n",
    "      <td width=\"20%\">Operation </td>\n",
    "      <td width=\"80%\">Result </td>\n",
    "    </tr>\n",
    "    <tr>\n",
    "      <td>x in s </td>\n",
    "      <td>True 如果列表s里有元素等于x, 否则False </td>\n",
    "    </tr>\n",
    "    <tr>\n",
    "      <td>x not in s </td>\n",
    "      <td>False 如果列表s里有元素等于x, 否则True </td>\n",
    "    </tr>\n",
    "    <tr>\n",
    "      <td>s + t </td>\n",
    "      <td><p align=\"left\">将 s 和 t 联结成一个列表 </td>\n",
    "    </tr>\n",
    "    <tr>\n",
    "      <td>s \\* n 或者 n \\* s </td>\n",
    "      <td>n 个 s 联结成一个列表 </td>\n",
    "    </tr>\n",
    "    <tr>\n",
    "      <td>s[i] </td>\n",
    "      <td>s的第 i 个元素（从 0 开始计算）。 </td>\n",
    "    </tr>\n",
    "    <tr>\n",
    "      <td>s[i:j] </td>\n",
    "      <td>从i 到 j 的切片（不包括j） </td>\n",
    "    </tr>\n",
    "    <tr>\n",
    "      <td>s[i:j:k] </td>\n",
    "      <td>从i 到 j 的切片（不包括j），步长为k </td>\n",
    "    </tr>\n",
    "    <tr>\n",
    "      <td>len(s) </td>\n",
    "      <td> s的长度（元素的个数） </td>\n",
    "    </tr>\n",
    "    <tr>\n",
    "      <td>min(s) </td>\n",
    "      <td> s 中最小的元素 </td>\n",
    "    </tr>\n",
    "    <tr>\n",
    "      <td>max(s) </td>\n",
    "      <td> s 中最大的元素 </td>\n",
    "    </tr>\n",
    "    <tr>\n",
    "      <td>s.index(x[, i[, j]]) </td>\n",
    "      <td>x 第一次出现在 s 中的位置(i 或 i 之后j之前，如省略i，j则为所有元素) </td>\n",
    "    </tr>\n",
    "    <tr>\n",
    "      <td>s.count(x) </td>\n",
    "      <td>s中x出现的次数</td>\n",
    "    </tr>\n",
    "  <tr>\n",
    "    <td>s[i] = x</td>\n",
    "    <td>用x取代s中第i个元素</td>\n",
    "  </tr>\n",
    "  <tr>\n",
    "    <td>s[i:j] = t</td>\n",
    "    <td>s 中从 i 到 j 的切片被t取代，t可以是迭代器或者其他的列表等。</td>\n",
    "  </tr>\n",
    "  <tr>\n",
    "    <td>del s[i:j]</td>\n",
    "    <td>删除s[i:j]，等同于 s[i:j] = []</td>\n",
    "  </tr>\n",
    "  <tr>\n",
    "    <td>s[i:j:k] = t</td>\n",
    "    <td>用列表t取代s[i:j:k]</td>\n",
    "  </tr>\n",
    "  <tr>\n",
    "    <td>del s[i:j:k]</td>\n",
    "    <td>删除s[i:j:k] 指定的素</td>\n",
    "  </tr>\n",
    "  <tr>\n",
    "    <td>s.append(x)</td>\n",
    "    <td>在列表后端添加x (same as s[len(s):len(s)] = [x])</td>\n",
    "  </tr>\n",
    "  <tr>\n",
    "    <td>s.clear()</td>\n",
    "    <td>清空 s (same as del s[:])</td>\n",
    "  </tr>\n",
    "  <tr>\n",
    "    <td>s.copy()</td>\n",
    "    <td>复制 s 得到一个新的列表 (same as s[:])</td>\n",
    "  </tr>\n",
    "  <tr>\n",
    "    <td>s.extend(t)</td>\n",
    "    <td>用t 扩展 s (same as s[len(s):len(s)] = t)</td>\n",
    "  </tr>\n",
    "  <tr>\n",
    "    <td>s.insert(i, x)</td>\n",
    "    <td>插入 x 到 s 中第 i 个位置 (same as s[i:i] = [x])</td>\n",
    "  </tr>\n",
    "  <tr>\n",
    "    <td>s.pop([i])</td>\n",
    "    <td>得到第i 个元素，同时将其从 s 中删除，若无参数则为最后后一个元素</td>\n",
    "  </tr>\n",
    "  <tr>\n",
    "    <td>s.remove(x)</td>\n",
    "    <td>将第一个等于x的元素从s中删除</td>\n",
    "  </tr>\n",
    "  <tr>\n",
    "    <td>s.reverse()</td>\n",
    "    <td>得到一个逆序的新列表</td>\n",
    "  </tr>\n",
    "  <tr>\n",
    "    <td>s.sort()</td>\n",
    "    <td>对s从小到大排序，s.sort(reverse=True)为从大到小排序。</td>\n",
    "  </tr>\n",
    "</table>\n",
    "#### 更多的例子可参见[例子](/files/examples/test_sequence.py)"
   ]
  },
  {
   "cell_type": "code",
   "execution_count": 13,
   "metadata": {},
   "outputs": [
    {
     "name": "stdout",
     "output_type": "stream",
     "text": [
      "s= [1, 2, True, 'a', 'a', (3+2j)]\n",
      "t= [10, 9, 8, 15]\n",
      "'a'在s中吗？ True\n",
      "2不在s中吗？ True\n",
      "s+t= [1, 2, True, 'a', 'a', (3+2j), 10, 9, 8, 15]\n",
      "2*s= [10, 9, 8, 15, 10, 9, 8, 15]\n",
      "访问s中的元素： 2 [2, True] [1, True, 'a']\n",
      "s的长度： 6\n",
      "t的最大值： 15\n",
      "t的最小值： 8\n",
      "3+2j在s的哪个位置？ 5\n",
      "向t中添加一个元素19 [10, 9, 8, 15, 19]\n"
     ]
    }
   ],
   "source": [
    "s=[1,2,True,'a','a',3+2j]\n",
    "t=[10,9,8,15]\n",
    "\n",
    "print('s=',s)\n",
    "print('t=',t)\n",
    "\n",
    "print(\"'a'在s中吗？\",'a' in s)\n",
    "\n",
    "print('2不在s中吗？','2' not in s)\n",
    "\n",
    "print('s+t=',s+t)\n",
    "\n",
    "print('2*s=',2*t)\n",
    "\n",
    "print('访问s中的元素：',s[1],s[1:3],s[0:6:2])\n",
    "\n",
    "print('s的长度：',len(s))\n",
    "\n",
    "print('t的最大值：',max(t))\n",
    "\n",
    "print('t的最小值：',min(t))\n",
    "\n",
    "print('3+2j在s的哪个位置？',s.index(3+2j))\n",
    "\n",
    "t.append(19)\n",
    "print('向t中添加一个元素19',t)"
   ]
  },
  {
   "cell_type": "code",
   "execution_count": 11,
   "metadata": {},
   "outputs": [
    {
     "name": "stdout",
     "output_type": "stream",
     "text": [
      "t1=t.copy()= [8, 9, 11, 15]\n",
      "对t1从小到大排序 [8, 9, 11, 15]\n",
      "对t1从大到小排序 [15, 11, 9, 8]\n",
      "s中有多少个1？多少个'a'? 2 2\n",
      "<class 'ValueError'> '2' is not in list\n",
      "<class 'TypeError'> unorderable types: str() > int()\n",
      "m= [[15, 11, 9, 8], [15, 11, 9, 8], [1, 2, 3], []]\n",
      "t= [11, 11, 9, 8]\n",
      "m= [[11, 11, 9, 8], [11, 11, 9, 8], [1, 2, 3], []]\n"
     ]
    }
   ],
   "source": [
    "t1=t.copy()\n",
    "t1.sort()\n",
    "print('t1=t.copy()=',t1)\n",
    "print('对t1从小到大排序', t1)\n",
    "t1.sort(reverse=True)\n",
    "print('对t1从大到小排序', t1)\n",
    "\n",
    "print(\"s中有多少个1？多少个'a'?\",s.count(1),s.count('a')) #为什么?\n",
    "\n",
    "try:\n",
    "    print(s.index('2'))\n",
    "except Exception as e:\n",
    "    print(type(e),e)\n",
    "\n",
    "try:\n",
    "    print(max(s))\n",
    "except Exception as e:\n",
    "    print(type(e),e)\n",
    "\n",
    "m=[t1,t1,[1,2,3],[]]\n",
    "print('m=',m)\n",
    "\n",
    "t1[0]=11\n",
    "print('t=',t1)\n",
    "print('m=',m)  #为什么？"
   ]
  },
  {
   "cell_type": "markdown",
   "metadata": {},
   "source": [
    "### 列表解析（List comprehension）\n",
    "* 可以利用for循环快速的**生成列表**\n",
    "* [<expression> for <target> in <object> if <test>]\n"
   ]
  },
  {
   "cell_type": "code",
   "execution_count": 1,
   "metadata": {},
   "outputs": [
    {
     "name": "stdout",
     "output_type": "stream",
     "text": [
      "[1, 4, 9, 16, 25, 36] [1, 9, 25]\n"
     ]
    }
   ],
   "source": [
    "s=[1,2,3,4,5,6]\n",
    "t=[i**2 for  i in s]\n",
    "t1=[i**2 for  i in s if i%2==1]\n",
    "print(t,t1)\n"
   ]
  },
  {
   "cell_type": "code",
   "execution_count": 3,
   "metadata": {},
   "outputs": [
    {
     "name": "stdout",
     "output_type": "stream",
     "text": [
      "['ab', 'ac', 'ad', 'bb', 'bc', 'bd', 'cb', 'cc', 'cd']\n",
      "['ab', 'ac', 'ad', 'bc', 'bd', 'cb', 'cd']\n",
      "['ab', 'ac', 'ad', 'bc', 'bd', 'cb', 'cd']\n"
     ]
    }
   ],
   "source": [
    "# 列表解析\n",
    "t=[x+y for x in 'abc' for y in 'bcd']\n",
    "print(t)\n",
    "t=[x+y for x in 'abc' for y in 'bcd' if x!=y]\n",
    "print(t)\n",
    "\n",
    "# 等价的普通方法\n",
    "t=[]\n",
    "for x in 'abc':\n",
    "    for y in 'bcd':\n",
    "        if x!=y:\n",
    "            t.append(x+y)\n",
    "print(t)"
   ]
  },
  {
   "cell_type": "markdown",
   "metadata": {},
   "source": [
    "#### 任务一 求菲波那切数列的前20项"
   ]
  },
  {
   "cell_type": "code",
   "execution_count": null,
   "metadata": {
    "collapsed": true
   },
   "outputs": [],
   "source": []
  },
  {
   "cell_type": "markdown",
   "metadata": {},
   "source": [
    "### 元组\n",
    "* 圆括号括起来的一组元素，元素可以是变量，常量或者其他Python对象（object），元素之间用逗号分隔。\n",
    "* 与列表的区别是元组或其元素不可修改，使用方法类似于列表，但由于元组不可修改，所以列表的方法大多不可用。\n",
    "* 可通过内置函数list将元组转化为列表，也可通过tuple函数将列表转为元组。\n",
    "* 可以利用元组可以给多个变量赋值。"
   ]
  },
  {
   "cell_type": "code",
   "execution_count": 18,
   "metadata": {},
   "outputs": [
    {
     "name": "stdout",
     "output_type": "stream",
     "text": [
      "(1, 2, 3, 4, 1, 2, 3, 4)\n",
      "1 2 4\n",
      "1 2 3 4\n"
     ]
    },
    {
     "ename": "AttributeError",
     "evalue": "'tuple' object has no attribute 'append'",
     "output_type": "error",
     "traceback": [
      "\u001b[1;31m---------------------------------------------------------------------------\u001b[0m",
      "\u001b[1;31mAttributeError\u001b[0m                            Traceback (most recent call last)",
      "\u001b[1;32m<ipython-input-18-8a8d79fcb32f>\u001b[0m in \u001b[0;36m<module>\u001b[1;34m()\u001b[0m\n\u001b[0;32m      3\u001b[0m \u001b[0mprint\u001b[0m\u001b[1;33m(\u001b[0m\u001b[0ms\u001b[0m\u001b[1;33m[\u001b[0m\u001b[1;36m0\u001b[0m\u001b[1;33m]\u001b[0m\u001b[1;33m,\u001b[0m\u001b[0ms\u001b[0m\u001b[1;33m[\u001b[0m\u001b[1;36m1\u001b[0m\u001b[1;33m]\u001b[0m\u001b[1;33m,\u001b[0m\u001b[0ms\u001b[0m\u001b[1;33m[\u001b[0m\u001b[1;33m-\u001b[0m\u001b[1;36m1\u001b[0m\u001b[1;33m]\u001b[0m\u001b[1;33m)\u001b[0m\u001b[1;33m\u001b[0m\u001b[0m\n\u001b[0;32m      4\u001b[0m \u001b[0mprint\u001b[0m\u001b[1;33m(\u001b[0m\u001b[1;33m*\u001b[0m\u001b[0ms\u001b[0m\u001b[1;33m)\u001b[0m\u001b[1;33m\u001b[0m\u001b[0m\n\u001b[1;32m----> 5\u001b[1;33m \u001b[0ms\u001b[0m\u001b[1;33m.\u001b[0m\u001b[0mappend\u001b[0m\u001b[1;33m(\u001b[0m\u001b[1;36m5\u001b[0m\u001b[1;33m)\u001b[0m\u001b[1;33m\u001b[0m\u001b[0m\n\u001b[0m",
      "\u001b[1;31mAttributeError\u001b[0m: 'tuple' object has no attribute 'append'"
     ]
    }
   ],
   "source": [
    "s=(1,2,3,4)\n",
    "print(s+s)\n",
    "print(s[0],s[1],s[-1])\n",
    "print(*s)\n",
    "s.append(5)"
   ]
  },
  {
   "cell_type": "markdown",
   "metadata": {},
   "source": [
    "### 字典\n",
    "* 字典 是大括号{}括起来的键（key）值（value）对的无序集合，键值对之间用逗号分隔，键和值之间用冒号分隔。可根据给定的键访问相应的值。\n",
    "* 向字典添加一个键的同时，必须为该键增添一个值。（之后可随时修改该值。）。Python 的字典为通过键获取值进行了优化，而不是简单的搜索，所以通过键 访问值的效率极高。\n",
    "* 可以用同名内置函数dict将列表，元组等转化为字典。"
   ]
  },
  {
   "cell_type": "code",
   "execution_count": 22,
   "metadata": {},
   "outputs": [
    {
     "name": "stdout",
     "output_type": "stream",
     "text": [
      "1 2 3\n"
     ]
    }
   ],
   "source": [
    "a=dict(one=1, two=2, three=3)\n",
    "b={'one': 1, 'two': 2, 'three': 3}\n",
    "print(a['one'],a['two'],a['three'])\n"
   ]
  },
  {
   "cell_type": "markdown",
   "metadata": {},
   "source": [
    "### 字典允许的操作\n",
    "\n",
    "<table align='center'>\n",
    "<tr><td>len(d)  </td><td style=\"vertical-align:middle; text-align:left;\">     Return  the number of items in the dictionary d.</td></tr>\n",
    "<tr><td>d[key]  </td><td style=\"vertical-align:middle; text-align:left;\">     Return the item of d with key key. Raises a KeyError if key is not in the map.</td></tr>\n",
    "<tr><td>d[key] = value    </td><td style=\"vertical-align:middle; text-align:left;\">  Set d[key] to value.</td></tr>\n",
    "<tr><td>del d[key]  </td><td style=\"vertical-align:middle; text-align:left;\">  Remove d[key] from d. Raises a KeyError if key is not in the map.</td></tr>\n",
    "<tr><td>key in d  </td><td style=\"vertical-align:middle; text-align:left;\">    Return True if d has a key key, else False.</td></tr>\n",
    "<tr><td>clear()   </td><td style=\"vertical-align:middle; text-align:left;\">  Remove all items from the dictionary.</td></tr>\n",
    "<tr><td>copy()  </td><td style=\"vertical-align:middle; text-align:left;\">   Return a shallow copy of the dictionary.</td></tr>\n",
    "<tr><td>get(key[, default])</td><td style=\"vertical-align:middle; text-align:left;\"> \n",
    "Return the value for key if key is in the dictionary, else default. <br>\n",
    "If default is not given, it defaults to None</td></tr>\n",
    "\n",
    "<tr><td>items() </td><td style=\"vertical-align:middle; text-align:left;\">   Return a new view of the dictionary’s items  ((key, value) pairs). </td></tr>\n",
    "<tr><td>keys() </td><td style=\"vertical-align:middle; text-align:left;\">     Return a new view of the dictionary’s keys.</td></tr>\n",
    "<tr><td>values() </td><td style=\"vertical-align:middle; text-align:left;\">  Return a new view of the  dictionary’s values. </td></tr>\n",
    "</table>\n",
    "\n",
    "#### 更多的例子可参见[例子](/files/examples/test_dic.py)"
   ]
  },
  {
   "cell_type": "code",
   "execution_count": 4,
   "metadata": {},
   "outputs": [
    {
     "name": "stdout",
     "output_type": "stream",
     "text": [
      "'one' in a:  True\n",
      "'four' in a:  False\n",
      "1 in a:  False\n",
      "a= {'one': 1, 'two': 2, 'three': 3, 'four': 4}\n",
      "4\n",
      "len(a)= 4\n",
      "del item whose key=four： {'one': 1, 'two': 2, 'three': 3}\n",
      "a.get('four',0):  0\n",
      "list(a.keys()): ['one', 'two', 'three']\n",
      "list(a.values()): [1, 2, 3]\n",
      "list(a.items()): [('one', 1), ('two', 2), ('three', 3)]\n"
     ]
    }
   ],
   "source": [
    "a={'one': 1, 'two': 2, 'three': 3}\n",
    "print(\"'one' in a: \", 'one' in a)\n",
    "print(\"'four' in a: \", 'four' in a)\n",
    "print(\"1 in a: \", 1 in a)\n",
    "\n",
    "a['four']=4\n",
    "print(\"a=\",a)\n",
    "\n",
    "print(a['four'])\n",
    "print(\"len(a)=\",len(a))\n",
    "\n",
    "del a['four']\n",
    "print('del item whose key=four：',a)\n",
    "\n",
    "print(\"a.get('four',0): \",a.get('four',0))  # four in not in a,so a.get('four',0) => 0\n",
    "\n",
    "print(\"list(a.keys()):\",list(a.keys()))\n",
    "print(\"list(a.values()):\",list(a.values()))\n",
    "print(\"list(a.items()):\",list(a.items()))"
   ]
  },
  {
   "cell_type": "markdown",
   "metadata": {},
   "source": [
    "#### 任务二，统计下面这段话中每种字符的出现频率：\n",
    "It is a truth universally acknowledged, that a single man in possession of a good fortune, must be in want of a wife. \n",
    "However little known the feelings or views of such a man may be on his first entering a neighbourhood, this truth is so well fixed in the minds of the surrounding families, that he is considered the rightful property of some one or other of their daughters. \n",
    "\n",
    "* 注意字符串可以被看作是一个list"
   ]
  },
  {
   "cell_type": "code",
   "execution_count": null,
   "metadata": {
    "collapsed": true
   },
   "outputs": [],
   "source": []
  },
  {
   "cell_type": "markdown",
   "metadata": {},
   "source": [
    "### 集合\n",
    "* 集合是由大括号括起来的无重复值的无序序列，每个元素之间用逗号分隔，概念上类似与数学里的集合。\n",
    "* 两个集合可以执行联合、交集以及集合求差等操作。\n",
    "* 可以用同名内置函数set将列表等转化为集合。\n",
    "![pic](/files/images/set_op.jpg)\n",
    "#### 更多介绍可参见 [集合介绍](http://blog.csdn.net/business122/article/details/7541486)"
   ]
  },
  {
   "cell_type": "code",
   "execution_count": 24,
   "metadata": {},
   "outputs": [
    {
     "name": "stdout",
     "output_type": "stream",
     "text": [
      "s= {1, 2, 3, -1}\n",
      "t= {4, 5, 6}\n",
      "s.add(4), s= {1, 2, 3, 4, -1}\n",
      "s.add(1), s= {1, 2, 3, 4, -1}\n",
      "s.remove(-1), s= {1, 2, 3, 4}\n",
      "s1=s.copy(),s1=: {1, 2, 3, 4}\n",
      "s1.update(t), s1= {1, 2, 3, 4, 5, 6}\n",
      "s2=s.copy(),s2=: {1, 2, 3, 4}\n",
      "s2|=t, s2= {1, 2, 3, 4, 5, 6}\n",
      "len(s)= 4\n",
      "4 in s : True\n",
      "{4,5,6} < t: False\n",
      "{4,5,6} <= t: True\n",
      "{4,5,6,7} > t: True\n",
      "{1,2}.issubset(s): True\n",
      "s.issuperset({1,2}): True\n",
      "s.union(t): {1, 2, 3, 4, 5, 6}\n",
      "s.intersection(t): {4}\n",
      "s-t: {1, 2, 3}\n",
      "s^t: {1, 2, 3, 5, 6}\n"
     ]
    }
   ],
   "source": [
    "s={-1,1,2,3}\n",
    "t={4,5,6}\n",
    "print('s=',s)\n",
    "print('t=',t)\n",
    "\n",
    "s.add(4)\n",
    "print('s.add(4), s=',s)\n",
    "s.add(1)\n",
    "print('s.add(1), s=',s)\n",
    "s.remove(-1)\n",
    "print('s.remove(-1), s=',s)\n",
    "\n",
    "s1=s.copy()\n",
    "print(\"s1=s.copy(),s1=:\",s1)\n",
    "s1.update(t)\n",
    "print('s1.update(t), s1=',s1)\n",
    "s2=s.copy()\n",
    "print(\"s2=s.copy(),s2=:\",s2)\n",
    "s2|=t\n",
    "print('s2|=t, s2=',s2)\n",
    "\n",
    "print('len(s)=',len(s))\n",
    "print('4 in s :',4 in s)\n",
    "\n",
    "print('{4,5,6} < t:',{4,5,6} < t)\n",
    "print('{4,5,6} <= t:',{4,5,6} <= t)\n",
    "print('{4,5,6,7} > t:',{4,5,6,7} > t)\n",
    "\n",
    "print('{1,2}.issubset(s):',{1,2}.issubset(s))\n",
    "print('s.issuperset({1,2}):',s.issuperset({1,2}))\n",
    "\n",
    "print(\"s.union(t):\",s.union(t))\n",
    "\n",
    "print(\"s.intersection(t):\",s.intersection(t))\n",
    "print('s-t:',s-t)\n",
    "print('s^t:',s^t)"
   ]
  },
  {
   "cell_type": "markdown",
   "metadata": {},
   "source": [
    "#### 任务三，请将lista中的重复数字去掉，lista=[1,1,3,4,1,2,4,5,6,3,6]"
   ]
  },
  {
   "cell_type": "code",
   "execution_count": null,
   "metadata": {
    "collapsed": true
   },
   "outputs": [],
   "source": []
  },
  {
   "cell_type": "markdown",
   "metadata": {},
   "source": [
    "### Range\n",
    "* Range 是由不可更改的数字组成的序列，通常用于循环。\n",
    "* 通过内置函数range构造。与list相比，range采用了特殊的技术（迭代器），所以占用内存极少。\n",
    "* 可通过内置函数list将其转化为列表。\n",
    "* 可通过内置函数tuple将其转化为元组。\n"
   ]
  },
  {
   "cell_type": "code",
   "execution_count": 19,
   "metadata": {},
   "outputs": [
    {
     "name": "stdout",
     "output_type": "stream",
     "text": [
      "range(5)= range(0, 5)\n",
      "range(1,5)= range(1, 5)\n",
      "list(range(1,5))= [1, 2, 3, 4]\n",
      "range(1,10,2)= range(1, 10, 2)\n",
      "tuple(range(1,5))= (1, 3, 5, 7, 9)\n",
      "range(10,1,-2)= range(10, 1, -2)\n",
      "list(range(10,1,-2))= [10, 8, 6, 4, 2]\n",
      "s= range(0, 5)\n",
      "list(s)= [0, 1, 2, 3, 4]\n",
      "tuple(s)= (0, 1, 2, 3, 4)\n"
     ]
    }
   ],
   "source": [
    "s=range(5)\n",
    "print('range(5)=',s)\n",
    "print('range(1,5)=',range(1,5))\n",
    "print('list(range(1,5))=',list(range(1,5)))\n",
    "print('range(1,10,2)=',range(1,10,2))\n",
    "print('tuple(range(1,5))=',tuple(range(1,10,2)))\n",
    "print('range(10,1,-2)=',range(10,1,-2))\n",
    "print('list(range(10,1,-2))=',list(range(10,1,-2)))\n",
    "print('s=',s)\n",
    "print('list(s)=',list(s))\n",
    "print('tuple(s)=',tuple(s))\n"
   ]
  },
  {
   "cell_type": "markdown",
   "metadata": {
    "collapsed": true
   },
   "source": [
    "#### 任务四，请计算数列：1,4,7,10，...，100的和"
   ]
  },
  {
   "cell_type": "code",
   "execution_count": null,
   "metadata": {
    "collapsed": true
   },
   "outputs": [],
   "source": []
  }
 ],
 "metadata": {
  "kernelspec": {
   "display_name": "Python 3",
   "language": "python",
   "name": "python3"
  },
  "language_info": {
   "codemirror_mode": {
    "name": "ipython",
    "version": 3
   },
   "file_extension": ".py",
   "mimetype": "text/x-python",
   "name": "python",
   "nbconvert_exporter": "python",
   "pygments_lexer": "ipython3",
   "version": "3.7.3"
  }
 },
 "nbformat": 4,
 "nbformat_minor": 1
}
