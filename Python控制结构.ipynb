{
 "cells": [
  {
   "cell_type": "markdown",
   "metadata": {},
   "source": [
    "## if条件结构    \n",
    "### 语法\n",
    "``` python\n",
    "    if <test1> :\n",
    "        <statement1>\n",
    "    elif <test2> :\n",
    "        <statement2>\n",
    "    elif <test3> :\n",
    "        <statement3>\n",
    "    ……\n",
    "    else :\n",
    "        <statementN>\n",
    "```\n",
    "* 注意缩进，statements必须比if/elif /else多缩进一层，以表明他们属于if语句的一部分。**Python依赖缩进识别if语句到哪里结束**\n",
    "* 不要忘了冒号。\n",
    "* 如果statement只有一行语句可以将其写在冒号后面，但最好不要这样。\n",
    "* 缩进时可以用tab，也可以用空格，但在同一段代码里不要混用这两种方法"
   ]
  },
  {
   "cell_type": "code",
   "execution_count": 2,
   "metadata": {},
   "outputs": [
    {
     "name": "stdout",
     "output_type": "stream",
     "text": [
      "请输入一个数： 4\n",
      "x是正数\n"
     ]
    }
   ],
   "source": [
    "x=eval(input('请输入一个数：'))\n",
    "if x<0:\n",
    "    print('x是负数')\n",
    "elif x==0:\n",
    "    print('x是0')\n",
    "else:\n",
    "    print('x是正数')\n",
    "    "
   ]
  },
  {
   "cell_type": "code",
   "execution_count": 1,
   "metadata": {},
   "outputs": [
    {
     "name": "stdout",
     "output_type": "stream",
     "text": [
      "请输入一个数：4\n",
      "x可以被2整除\n",
      "所以x是偶数\n"
     ]
    }
   ],
   "source": [
    "x=eval(input('请输入一个数：'))\n",
    "if x%2==0:\n",
    "    print('x可以被2整除')\n",
    "    print('所以x是偶数')\n",
    "    if x%3==0:\n",
    "        print('x是3的倍数')\n",
    "else:\n",
    "    print('x不能被2整除')\n",
    "    print('所以x是奇数')\n",
    "    "
   ]
  },
  {
   "cell_type": "markdown",
   "metadata": {
    "collapsed": true
   },
   "source": [
    "## while 循环结构\n",
    "### 语法\n",
    "```python\n",
    "    While <test>:\n",
    "        <statement1>\n",
    "    else:\n",
    "        <statement2>\n",
    "```\n",
    "* 若<test>不等于0，True，非空字符串或数据结构，反复执行statement1，否则结束循环执行else分支（若有else）或者下一条语句。\n",
    "* break, 结束整个循环语句，执行循环语句之后的第一条语句。\n",
    "* continue， 结束当前一轮的循环，回到循环的首行。\n",
    "* pass，相当于空行，什么也不做。\n",
    "* else, 循环正常结束时（非break退出），进入else分支。\n"
   ]
  },
  {
   "cell_type": "code",
   "execution_count": 2,
   "metadata": {},
   "outputs": [
    {
     "name": "stdout",
     "output_type": "stream",
     "text": [
      "3-2-1-ok\n"
     ]
    }
   ],
   "source": [
    "x=3\n",
    "while x>0:\n",
    "    print(x,end='-')\n",
    "    x-=1\n",
    "else:\n",
    "    print(\"ok\")"
   ]
  },
  {
   "cell_type": "code",
   "execution_count": 3,
   "metadata": {},
   "outputs": [
    {
     "name": "stdout",
     "output_type": "stream",
     "text": [
      "3-2-1-"
     ]
    }
   ],
   "source": [
    "x=3\n",
    "while True:\n",
    "    print(x,end='-')\n",
    "    x-=1\n",
    "    if x==0:\n",
    "        break\n",
    "else:\n",
    "    print(\"ok\")"
   ]
  },
  {
   "cell_type": "code",
   "execution_count": 2,
   "metadata": {},
   "outputs": [
    {
     "name": "stdout",
     "output_type": "stream",
     "text": [
      "117 不是质数\n"
     ]
    }
   ],
   "source": [
    "y=117\n",
    "x=y//2\n",
    "while x>1:\n",
    "    if y%x==0:\n",
    "        print(y,'不是质数')\n",
    "        break\n",
    "    x-=1\n",
    "else:\n",
    "    print(y,'是质数')"
   ]
  },
  {
   "cell_type": "markdown",
   "metadata": {},
   "source": [
    "## for 循环结构\n",
    "### 语法\n",
    "```python\n",
    "    for <target> in <object>:\n",
    "       <statements>\n",
    "    else:\n",
    "       <statements>\n",
    "```       \n",
    " \n",
    "* target是变量，object是列表，元组，range或其他的序列类型。若target在object中，则反复执行statements\n",
    "* 若循环正常结束（非break退出），则执行statements"
   ]
  },
  {
   "cell_type": "code",
   "execution_count": 6,
   "metadata": {},
   "outputs": [
    {
     "name": "stdout",
     "output_type": "stream",
     "text": [
      "0 1 2 3 4 5 6 7 8 9 "
     ]
    }
   ],
   "source": [
    "for i in range(10):\n",
    "    print(i,end=' ')"
   ]
  },
  {
   "cell_type": "markdown",
   "metadata": {},
   "source": [
    "### 习题1\n",
    "* 计算 $e=1+\\frac{1}{1!}+\\frac{1}{2!}+\\frac{1}{3!}+...+\\frac{1}{i!}$"
   ]
  },
  {
   "cell_type": "code",
   "execution_count": null,
   "metadata": {
    "collapsed": true
   },
   "outputs": [],
   "source": []
  },
  {
   "cell_type": "markdown",
   "metadata": {},
   "source": [
    "### 习题2\n",
    "* 计算$\\pi=4*(1-\\frac{1}{3}+\\frac{1}{5}-\\frac{1}{7}+...+\\frac{(-1)^{i+1}}{2i-1})$"
   ]
  },
  {
   "cell_type": "code",
   "execution_count": 1,
   "metadata": {},
   "outputs": [
    {
     "name": "stdout",
     "output_type": "stream",
     "text": [
      "3.1315929035585537\n"
     ]
    }
   ],
   "source": []
  },
  {
   "cell_type": "markdown",
   "metadata": {},
   "source": [
    "### 习题3\n",
    "输出：\n",
    "\n",
    "1×1=1\t\t\t\t\t\t\t\t\n",
    "1×2=2\t2×2=4\t\t\t\t\t\t\t\n",
    "1×3=3\t2×3=6\t3×3=9\t\t\t\t\t\t\n",
    "1×4=4\t2×4=8\t3×4=12\t4×4=16\t\t\t\t\t\n",
    "1×5=5\t2×5=10\t3×5=15\t4×5=20\t5×5=25\t\t\t\t\n",
    "1×6=6\t2×6=12\t3×6=16\t4×6=24\t5×6=30\t6×6=36\t\t\t\n",
    "1×7=7\t2×7=14\t3×7=21\t4×7=28\t5×7=35\t6×7=42\t7×7=49\t\t\n",
    "1×8=8\t2×8=16\t3×8=24\t4×8=32\t5×8=40\t6×8=48\t7×8=56\t8×8=64\t\n",
    "1×9=8\t2×9=18\t3×9=27\t4×9=36\t5×9=45\t6×9=36\t7×9=63\t8×9=72\t9×9=81"
   ]
  },
  {
   "cell_type": "code",
   "execution_count": null,
   "metadata": {
    "collapsed": true
   },
   "outputs": [],
   "source": []
  }
 ],
 "metadata": {
  "kernelspec": {
   "display_name": "Python 3",
   "language": "python",
   "name": "python3"
  },
  "language_info": {
   "codemirror_mode": {
    "name": "ipython",
    "version": 3
   },
   "file_extension": ".py",
   "mimetype": "text/x-python",
   "name": "python",
   "nbconvert_exporter": "python",
   "pygments_lexer": "ipython3",
   "version": "3.6.3"
  }
 },
 "nbformat": 4,
 "nbformat_minor": 1
}
