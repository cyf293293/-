{
 "cells": [
  {
   "cell_type": "markdown",
   "metadata": {},
   "source": [
    "## 内置函数（BIF，built-in functions）\n",
    "* 内置函数是Python内置对象类型之一，不需要额外导入任何模块即可直接使用，这些内置对象都封装在内置模块__builtins__之中，用C语言实现并且进行了大量优化，具有非常快的运行速度，推荐优先使用。"
   ]
  },
  {
   "cell_type": "code",
   "execution_count": 3,
   "metadata": {},
   "outputs": [
    {
     "name": "stdout",
     "output_type": "stream",
     "text": [
      "['ArithmeticError', 'AssertionError', 'AttributeError', 'BaseException', 'BlockingIOError', 'BrokenPipeError', 'BufferError', 'BytesWarning', 'ChildProcessError', 'ConnectionAbortedError', 'ConnectionError', 'ConnectionRefusedError', 'ConnectionResetError', 'DeprecationWarning', 'EOFError', 'Ellipsis', 'EnvironmentError', 'Exception', 'False', 'FileExistsError', 'FileNotFoundError', 'FloatingPointError', 'FutureWarning', 'GeneratorExit', 'IOError', 'ImportError', 'ImportWarning', 'IndentationError', 'IndexError', 'InterruptedError', 'IsADirectoryError', 'KeyError', 'KeyboardInterrupt', 'LookupError', 'MemoryError', 'ModuleNotFoundError', 'NameError', 'None', 'NotADirectoryError', 'NotImplemented', 'NotImplementedError', 'OSError', 'OverflowError', 'PendingDeprecationWarning', 'PermissionError', 'ProcessLookupError', 'RecursionError', 'ReferenceError', 'ResourceWarning', 'RuntimeError', 'RuntimeWarning', 'StopAsyncIteration', 'StopIteration', 'SyntaxError', 'SyntaxWarning', 'SystemError', 'SystemExit', 'TabError', 'TimeoutError', 'True', 'TypeError', 'UnboundLocalError', 'UnicodeDecodeError', 'UnicodeEncodeError', 'UnicodeError', 'UnicodeTranslateError', 'UnicodeWarning', 'UserWarning', 'ValueError', 'Warning', 'WindowsError', 'ZeroDivisionError', '__IPYTHON__', '__build_class__', '__debug__', '__doc__', '__import__', '__loader__', '__name__', '__package__', '__spec__', 'abs', 'all', 'any', 'ascii', 'bin', 'bool', 'bytearray', 'bytes', 'callable', 'chr', 'classmethod', 'compile', 'complex', 'copyright', 'credits', 'delattr', 'dict', 'dir', 'display', 'divmod', 'enumerate', 'eval', 'exec', 'filter', 'float', 'format', 'frozenset', 'get_ipython', 'getattr', 'globals', 'hasattr', 'hash', 'help', 'hex', 'id', 'input', 'int', 'isinstance', 'issubclass', 'iter', 'len', 'license', 'list', 'locals', 'map', 'max', 'memoryview', 'min', 'next', 'object', 'oct', 'open', 'ord', 'pow', 'print', 'property', 'range', 'repr', 'reversed', 'round', 'set', 'setattr', 'slice', 'sorted', 'staticmethod', 'str', 'sum', 'super', 'tuple', 'type', 'vars', 'zip']\n",
      "Help on built-in function sum in module builtins:\n",
      "\n",
      "sum(iterable, start=0, /)\n",
      "    Return the sum of a 'start' value (default: 0) plus an iterable of numbers\n",
      "    \n",
      "    When the iterable is empty, return the start value.\n",
      "    This function is intended specifically for use with numeric values and may\n",
      "    reject non-numeric types.\n",
      "\n"
     ]
    }
   ],
   "source": [
    "print(dir(__builtins__))\n",
    "help(sum)"
   ]
  },
  {
   "cell_type": "markdown",
   "metadata": {},
   "source": [
    "## 常用内置函数\n",
    "### 输入\n",
    "* <font color=red>input([提示语句])     \n",
    "* input()一律返回字符串\n",
    "* 可利用eval, float, int函数将其转换为合适的数值类型</font>"
   ]
  },
  {
   "cell_type": "code",
   "execution_count": 56,
   "metadata": {},
   "outputs": [
    {
     "name": "stdout",
     "output_type": "stream",
     "text": [
      "请输入一个数:3\n",
      "3 <class 'str'>\n",
      "3 <class 'int'>\n",
      "3.0 <class 'float'>\n",
      "3 <class 'int'>\n"
     ]
    }
   ],
   "source": [
    "s=input(\"请输入一个数:\")\n",
    "print(s,type(s))\n",
    "d=eval(s)          # 利用eval将字符串转为数值\n",
    "print(d,type(d))\n",
    "\n",
    "e,f=float(s),int(s)      # 利用float和int将字符串转为浮点数和整数，注意s无法转成整数，int会报错\n",
    "print(e,type(e))\n",
    "print(f,type(f))"
   ]
  },
  {
   "cell_type": "code",
   "execution_count": null,
   "metadata": {
    "collapsed": true
   },
   "outputs": [],
   "source": [
    "x = input(\"请输入两个数，中间用英文逗号分隔：\")  #下面的eval要求输入必须符合Python的语法，所以只能用逗号分隔\n",
    "print(type(x),x)\n",
    "a,b=eval(x)\n",
    "print(type(a), a)\n",
    "print(type(b), b)"
   ]
  },
  {
   "cell_type": "code",
   "execution_count": null,
   "metadata": {
    "collapsed": true
   },
   "outputs": [],
   "source": [
    "s=input(\"请输入两个数，中间用空格分隔：\")\n",
    "a,b = map(eval, s.split())   #利用字符串的split函数，以空格作为分隔符，分割字符串得到一个列表\n",
    "print(type(a),a)\n",
    "print(type(b),b)"
   ]
  },
  {
   "cell_type": "code",
   "execution_count": null,
   "metadata": {
    "collapsed": true
   },
   "outputs": [],
   "source": [
    "s=input(\"请输入两个数，中间用#号分隔：\")\n",
    "a,b = map(eval, s.split('#'))   #利用字符串的split函数，以#号作为分隔符，分割字符串得到一个列表\n",
    "print(type(a),a)\n",
    "print(type(b),b)"
   ]
  },
  {
   "cell_type": "markdown",
   "metadata": {},
   "source": [
    "### 输出\n",
    "* <font color=red>print(*objects, sep=' ', end='\\n', file=sys.stdout, flush=False) \n",
    "* objects为要输出的数据，可以是一个或多个数据，sep参数之前均为需要输出的内容\n",
    "* 当有多个数据需要输出时，可以通过sep指定分割符，sep参数用于指定数据之间的分隔符，默认为空格\n",
    "* end为输出全部数据后的额外输出的结束符，默认为换行，所以默认情况下，print输出完数据后会换行\n",
    "* file参数用于指定输出位置，默认为标准控制台，也可以重定向输出到文件</font>"
   ]
  },
  {
   "cell_type": "code",
   "execution_count": 55,
   "metadata": {},
   "outputs": [
    {
     "name": "stdout",
     "output_type": "stream",
     "text": [
      "hello 1234\n",
      "hello+1+2+3+4\n",
      "hello 1234world 5678\n"
     ]
    }
   ],
   "source": [
    "print(\"hello\",1234)\n",
    "print(\"hello\",1,2,3,4, sep='+')\n",
    "print(\"hello\",1234, end='')     # end被设置为空字符''而非换行符，所以输出完hello和1234后不会换行\n",
    "print(\"world\",5678)          \n",
    "\n",
    "with open('test.txt', 'a+') as fp:\n",
    "    print('Hello world!', file=fp)    #重定向，将内容输出到文件中"
   ]
  },
  {
   "cell_type": "markdown",
   "metadata": {},
   "source": [
    "### 类型转换\n",
    "\n",
    "* <font color=red>int(x, base=10) 内置函数int()用来将其他形式的数字转换为整数，参数可以为整数、实数、分数或合法的数字字符串。当参数为数字字符串时，还允许指定第二个参数base用来说明数字字符串的进制，base的取值应为0或2-36之间的整数，其中0表示按数字字符串隐含的进制进行转换。</font>\n",
    "\n",
    "* 内置函数bin()、oct()、hex()用来将整数转换为二进制、八进制和十六进制形式，这三个函数都要求参数必须为整数"
   ]
  },
  {
   "cell_type": "code",
   "execution_count": 55,
   "metadata": {},
   "outputs": [
    {
     "name": "stdout",
     "output_type": "stream",
     "text": [
      "0b1000101011\n",
      "0o1053\n",
      "0x22b\n",
      "33 33\n",
      "555 110\n"
     ]
    },
    {
     "ename": "ValueError",
     "evalue": "invalid literal for int() with base 10: '33.1'",
     "output_type": "error",
     "traceback": [
      "\u001b[1;31m---------------------------------------------------------------------------\u001b[0m",
      "\u001b[1;31mValueError\u001b[0m                                Traceback (most recent call last)",
      "\u001b[1;32m<ipython-input-55-2ace3a27fb9c>\u001b[0m in \u001b[0;36m<module>\u001b[1;34m()\u001b[0m\n\u001b[0;32m      4\u001b[0m \u001b[0mprint\u001b[0m\u001b[1;33m(\u001b[0m\u001b[0mint\u001b[0m\u001b[1;33m(\u001b[0m\u001b[1;36m33.1\u001b[0m\u001b[1;33m)\u001b[0m\u001b[1;33m,\u001b[0m \u001b[0mint\u001b[0m\u001b[1;33m(\u001b[0m\u001b[1;34m'33'\u001b[0m\u001b[1;33m)\u001b[0m\u001b[1;33m)\u001b[0m           \u001b[1;31m#把实数和字符串转换为整数\u001b[0m\u001b[1;33m\u001b[0m\u001b[0m\n\u001b[0;32m      5\u001b[0m \u001b[0mprint\u001b[0m\u001b[1;33m(\u001b[0m\u001b[0mint\u001b[0m\u001b[1;33m(\u001b[0m\u001b[1;34m'0x22b'\u001b[0m\u001b[1;33m,\u001b[0m \u001b[1;36m16\u001b[0m\u001b[1;33m)\u001b[0m\u001b[1;33m,\u001b[0m \u001b[0mint\u001b[0m\u001b[1;33m(\u001b[0m\u001b[1;34m'156'\u001b[0m\u001b[1;33m,\u001b[0m \u001b[1;36m8\u001b[0m\u001b[1;33m)\u001b[0m\u001b[1;33m)\u001b[0m\u001b[1;33m\u001b[0m\u001b[0m\n\u001b[1;32m----> 6\u001b[1;33m \u001b[0mprint\u001b[0m\u001b[1;33m(\u001b[0m\u001b[0mint\u001b[0m\u001b[1;33m(\u001b[0m\u001b[1;34m'33.1'\u001b[0m\u001b[1;33m)\u001b[0m\u001b[1;33m)\u001b[0m                    \u001b[1;31m# 转换失败\u001b[0m\u001b[1;33m\u001b[0m\u001b[0m\n\u001b[0m",
      "\u001b[1;31mValueError\u001b[0m: invalid literal for int() with base 10: '33.1'"
     ]
    }
   ],
   "source": [
    "print( bin(555) )                     #把数字转换为二进制串\n",
    "print( oct(555) )                     #转换为八进制串\n",
    "print( hex(555) )                     #转换为十六进制串\n",
    "print(int(33.1), int('33'))           #把实数和字符串转换为整数\n",
    "print(int('0x22b', 16), int('156', 8))                 \n",
    "print(int('33.1'))                    # 转换失败"
   ]
  },
  {
   "cell_type": "markdown",
   "metadata": {},
   "source": [
    "* <font color=red> float(x) 把x（数字或字符串）转为浮点数</font>\n",
    "* complex(x) 把x（数字或字符串）转为复数"
   ]
  },
  {
   "cell_type": "code",
   "execution_count": 53,
   "metadata": {},
   "outputs": [
    {
     "name": "stdout",
     "output_type": "stream",
     "text": [
      "3.0\n",
      "3.5\n",
      "inf\n",
      "(3+0j)\n",
      "(3+5j)\n",
      "(inf+0j)\n"
     ]
    }
   ],
   "source": [
    "print(float(3))                       #把整数转换为实数\n",
    "\n",
    "print(float('3.5'))                   #把数字字符串转换为实数\n",
    "\n",
    "print(float('inf'))                   #无穷大，其中inf不区分大小写\n",
    "\n",
    "print(complex(3))                     #指定实部\n",
    "\n",
    "print(complex(3, 5))                  #指定实部和虚部\n",
    "\n",
    "print(complex('inf'))                 "
   ]
  },
  {
   "cell_type": "markdown",
   "metadata": {},
   "source": [
    "* <font color=red> ord(ch) 返回一个字符的unicode编码 \n",
    "* chr(num) 则用来返回Unicode编码对应的字符\n",
    "* str(obj)则直接将其任意类型参数转换为字符串  </font>\n",
    "* ascii(obj) 内置类ascii可以把对象转换为ASCII码表示形式，必要的时候使用转义字符来表示特定的字符"
   ]
  },
  {
   "cell_type": "code",
   "execution_count": 65,
   "metadata": {},
   "outputs": [
    {
     "name": "stdout",
     "output_type": "stream",
     "text": [
      "97\n",
      "A\n",
      "B\n",
      "图\n",
      "22269\n",
      "22270\n",
      "厦门大学\n",
      "21414\n",
      "[1, 2, 3]\n",
      "(1, 2, 3)\n",
      "{1, 2, 3}\n",
      "'a'\n",
      "'\\u53a6\\u95e8\\u5927\\u5b66'\n",
      "厦门大学\n"
     ]
    }
   ],
   "source": [
    "print(ord('a'))           #查看指定字符的Unicode编码\n",
    "print(chr(65) )           #返回数字65对应的字符\n",
    "print(chr(ord('A')+1))    #Python不允许字符串和数字之间的加法操作\n",
    "print(chr(ord('国')+1))   #支持中文\n",
    "print(ord('国'))          #这个用法仅适用于Python 3.x\n",
    "print(ord('图'))\n",
    "\n",
    "print(''.join(map(chr, (21414, 38376, 22823, 23398))))\n",
    "print(str(21414))                      #直接变成字符串\n",
    "print(str([1,2,3]))\n",
    "print(str((1,2,3)))\n",
    "print(str({1,2,3}))\n",
    "\n",
    "print(ascii('a'))\n",
    "s=ascii('厦门大学')\n",
    "print(s)\n",
    "print(eval(s))                        #对字符串进行求值"
   ]
  },
  {
   "cell_type": "markdown",
   "metadata": {},
   "source": [
    "* bytes(str, encoding) 内置类bytes用来生成字节串，或者把指定对象转换为特定编码的字节串"
   ]
  },
  {
   "cell_type": "code",
   "execution_count": 67,
   "metadata": {},
   "outputs": [
    {
     "name": "stdout",
     "output_type": "stream",
     "text": [
      "b''\n",
      "b'\\x00\\x00\\x00'\n",
      "b'\\xe5\\x8e\\xa6\\xe9\\x97\\xa8\\xe5\\xa4\\xa7\\xe5\\xad\\xa6'\n",
      "b'\\xcf\\xc3\\xc3\\xc5\\xb4\\xf3\\xd1\\xa7'\n",
      "厦门大学\n",
      "b'\\xcf\\xc3\\xc3\\xc5\\xb4\\xf3\\xd1\\xa7'\n"
     ]
    }
   ],
   "source": [
    "print(bytes())                        #生成空字节串\n",
    "print(bytes(3))                      #生成长度为3的字节串\n",
    "print(bytes('厦门大学','utf8'))         #把字符串转换为字节串\n",
    "s=bytes('厦门大学','gbk')          #可以指定不同的编码格式\n",
    "print(s)\n",
    "print(str(s, 'gbk'))               #使用同样的编码格式进行解码\n",
    "print('厦门大学'.encode('gbk'))         #等价于使用btyes()进行转换\n"
   ]
  },
  {
   "cell_type": "markdown",
   "metadata": {},
   "source": [
    "* <font color=red>list() 把其他类型的数据转换成为列表，或者创建空列表 \n",
    "* tuple()  把其他类型的数据转换成为元组，或者创建空元组\n",
    "* dict() 把其他类型的数据转换成为字典，或者创建空字典\n",
    "* set() 把其他类型的数据转换成为集合, 或者创建空集合 </font> \n",
    "* frozenset() 把其他类型的数据转换成为不变集合,或者创建空集合\n",
    "\n"
   ]
  },
  {
   "cell_type": "code",
   "execution_count": 70,
   "metadata": {},
   "outputs": [
    {
     "name": "stdout",
     "output_type": "stream",
     "text": [
      "[0, 1, 2, 3, 4]\n",
      "(0, 1, 2, 3, 4)\n",
      "{'1': 'a', '2': 'b', '3': 'c', '4': 'd'}\n",
      "{'1', '2', '3', '4'}\n",
      "None\n",
      "frozenset({'1', '2', '3', '4'})\n"
     ]
    },
    {
     "ename": "AttributeError",
     "evalue": "'frozenset' object has no attribute 'add'",
     "output_type": "error",
     "traceback": [
      "\u001b[1;31m---------------------------------------------------------------------------\u001b[0m",
      "\u001b[1;31mAttributeError\u001b[0m                            Traceback (most recent call last)",
      "\u001b[1;32m<ipython-input-70-4b37a669bbc0>\u001b[0m in \u001b[0;36m<module>\u001b[1;34m()\u001b[0m\n\u001b[0;32m      7\u001b[0m \u001b[0ms\u001b[0m\u001b[1;33m=\u001b[0m\u001b[0mfrozenset\u001b[0m\u001b[1;33m(\u001b[0m\u001b[1;34m'1112234'\u001b[0m\u001b[1;33m)\u001b[0m              \u001b[1;31m#创建不可变集合，自动去除重复\u001b[0m\u001b[1;33m\u001b[0m\u001b[0m\n\u001b[0;32m      8\u001b[0m \u001b[0mprint\u001b[0m\u001b[1;33m(\u001b[0m\u001b[0ms\u001b[0m\u001b[1;33m)\u001b[0m\u001b[1;33m\u001b[0m\u001b[0m\n\u001b[1;32m----> 9\u001b[1;33m \u001b[0mprint\u001b[0m\u001b[1;33m(\u001b[0m\u001b[0ms\u001b[0m\u001b[1;33m.\u001b[0m\u001b[0madd\u001b[0m\u001b[1;33m(\u001b[0m\u001b[1;34m'5'\u001b[0m\u001b[1;33m)\u001b[0m\u001b[1;33m)\u001b[0m                    \u001b[1;31m#不可变集合frozenset不支持元素添加与删除\u001b[0m\u001b[1;33m\u001b[0m\u001b[0m\n\u001b[0m",
      "\u001b[1;31mAttributeError\u001b[0m: 'frozenset' object has no attribute 'add'"
     ]
    }
   ],
   "source": [
    "print(list(range(5)))               #把range对象转换为列表\n",
    "print(tuple(range(5)))              #把range对象转换为元组\n",
    "print(dict(zip('1234', 'abcde')))   #创建字典\n",
    "s=set('1112234')                    #创建可变集合，自动去除重复\n",
    "print(s)              \n",
    "print(s.add('5'))\n",
    "s=frozenset('1112234')              #创建不可变集合，自动去除重复\n",
    "print(s)\n",
    "print(s.add('5'))                    #不可变集合frozenset不支持元素添加与删除"
   ]
  },
  {
   "cell_type": "markdown",
   "metadata": {
    "collapsed": true
   },
   "source": [
    "### 类型判断\n",
    "* <font color=red> type() </font>\n",
    "* isinstance()\n",
    "\n",
    "可以用来判断数据类型，常用来对函数参数进行检查，可以避免错误的参数类型导致函数崩溃或返回意料之外的结果\n"
   ]
  },
  {
   "cell_type": "code",
   "execution_count": 1,
   "metadata": {},
   "outputs": [
    {
     "name": "stdout",
     "output_type": "stream",
     "text": [
      "<class 'int'>\n",
      "<class 'list'>\n",
      "False\n",
      "True\n",
      "True\n",
      "False\n",
      "True\n"
     ]
    }
   ],
   "source": [
    "print(type(3))                                 #查看3的类型\n",
    "print(type([3]))                               #查看[3]的类型\n",
    "print(type({3}) in (list, tuple, dict))        #判断{3}是否为list,tuple或dict类型的实例\n",
    "print(type({3}) in (list, tuple, dict, set))   #判断{3}是否为list,tuple,dict或set的实例\n",
    "print(isinstance(3, int))                      #判断3是否为int类型的实例\n",
    "print(isinstance(3j, int))\n",
    "print(isinstance(3j, (int, float, complex)))   #判断3是否为int,float或complex类型"
   ]
  },
  {
   "cell_type": "markdown",
   "metadata": {},
   "source": [
    "### 最值与求和\n",
    "*  <font color='red'> max(iterable, *[, key, default]) 计算列表、元组或其他包含有限个元素的可迭代对象中所有元素最大值\n",
    "* min(iterable, *[, key, default]) 计算列表、元组或其他包含有限个元素的可迭代对象中所有元素最小值\n",
    "* sum(iterable[, start]) 计算列表、元组或其他包含有限个元素的可迭代对象中所有元素之和</font>\n",
    "\n",
    "\n",
    "sum()默认支持包含数值型元素的序列或可迭代对象，还支持start参数，用来控制求和的初始值\n",
    "\n",
    "max()和min()则要求序列或可迭代对象中的元素之间可比较大小。此外，max()和min()还支持default参数和key参数，其中default参数用来指定可迭代对象为空时默认返回的最大值或最小值，而key参数用来指定比较大小的依据或规则，可以是函数或lambda表达式。\n"
   ]
  },
  {
   "cell_type": "code",
   "execution_count": 5,
   "metadata": {},
   "outputs": [
    {
     "name": "stdout",
     "output_type": "stream",
     "text": [
      "[59, 16, 81, 84, 74, 59, 16, 9, 9, 44]\n",
      "84 9 451\n",
      "45.1\n",
      "----------------------------------------\n",
      "2 111\n",
      "None\n"
     ]
    }
   ],
   "source": [
    "from random import randint\n",
    "a = [randint(1,100) for i in range(10)]  #包含10个[1,100]之间随机数的列表\n",
    "print(a)\n",
    "print(max(a), min(a), sum(a))            #最大值、最小值、所有元素之和\n",
    "print(sum(a) / len(a) )                          #平均值\n",
    "\n",
    "print(\"-\"*40)\n",
    "a=max(['2', '111'])               #不指定排序规则\n",
    "b=max(['2', '111'], key=len)      #返回最长的字符串'\n",
    "print(a,b)\n",
    "print(max([], default=None))    #对空列表求最大值，返回空值None"
   ]
  },
  {
   "cell_type": "markdown",
   "metadata": {},
   "source": [
    "### 排序与逆序\n",
    "* <font color='red'> sorted()对列表、元组、字典、集合或其他可迭代对象进行排序并**返回新列表** </font>\n",
    "* <font color='red'> reversed()对可迭代对象（生成器对象和具有惰性求值特性的zip、map、filter、enumerate等类似对象除外）进行翻转（首尾交换）并返回可迭代的reversed对象。</font>\n"
   ]
  },
  {
   "cell_type": "code",
   "execution_count": 8,
   "metadata": {},
   "outputs": [
    {
     "name": "stdout",
     "output_type": "stream",
     "text": [
      "[7, 9, 3, 6, 2, 4, 0, 5, 10, 8, 1]\n",
      "[0, 1, 2, 3, 4, 5, 6, 7, 8, 9, 10]\n",
      "[10, 7, 9, 3, 6, 2, 4, 0, 5, 8, 1]\n",
      "[0, 1, 10, 2, 3, 4, 5, 6, 7, 8, 9]\n"
     ]
    }
   ],
   "source": [
    "x = list(range(11))\n",
    "import random\n",
    "random.shuffle(x)                      #打乱顺序\n",
    "\n",
    "print(x, sorted(x),sep='\\n' )                   #以默认规则排序\n",
    "\n",
    "print(sorted(x, key=lambda item:len(str(item)), reverse=True))\n",
    "                                       #按转换成字符串以后的长度降序排列\n",
    "\n",
    "print(sorted(x, key=str))              # 换成字符串以后的大小升序排列\n"
   ]
  },
  {
   "cell_type": "code",
   "execution_count": 15,
   "metadata": {},
   "outputs": [
    {
     "name": "stdout",
     "output_type": "stream",
     "text": [
      "['b', 'd', 'ba', 'bc', 'aaaa']\n",
      "['aaaa', 'bc', 'd', 'b', 'ba']\n",
      "<list_reverseiterator object at 0x000000000577D710>\n",
      "['ba', 'b', 'd', 'bc', 'aaaa']\n"
     ]
    }
   ],
   "source": [
    "x = ['aaaa', 'bc', 'd', 'b', 'ba']\n",
    "print(sorted(x, key=lambda item: (len(item), item)))   #先按长度排序，长度一样的正常排序\n",
    "\n",
    "s = reversed(x)                    #逆序，返回reversed对象\n",
    "\n",
    "print(x, s, list(s), sep='\\n')              #reversed对象是可迭代的\n",
    "\n"
   ]
  },
  {
   "cell_type": "markdown",
   "metadata": {},
   "source": [
    "### 排序与逆序\n",
    "* <font color='red'>enumerate()函数用来枚举可迭代对象中的元素，返回可迭代的enumerate对象，其中每个元素都是包含**索引**和**值**的元组。</font>\n"
   ]
  },
  {
   "cell_type": "code",
   "execution_count": 20,
   "metadata": {},
   "outputs": [
    {
     "name": "stdout",
     "output_type": "stream",
     "text": [
      "<enumerate object at 0x00000000058FF948> [(0, 'a'), (1, 'b'), (2, 'c'), (3, 'd')]\n",
      "[(0, 'Python'), (1, 'Greate')]\n",
      "[(0, ('a', 97)), (1, ('b', 98)), (2, ('c', 99))]\n",
      "(0, 10) (1, 11) (2, 12) (3, 13) (4, 14) "
     ]
    }
   ],
   "source": [
    "s=enumerate('abcd')\n",
    "print(s, list(s))                          #枚举字符串中的元素\n",
    "\n",
    "print(list(enumerate(['Python', 'Greate'])))            #枚举列表中的元素\n",
    "\n",
    "print(list(enumerate({'a':97, 'b':98, 'c':99}.items())))#枚举字典中的元素\n",
    "\n",
    "for index, value in enumerate(range(10, 15)):    #枚举range对象中的元素\n",
    "    print((index, value), end=' ')"
   ]
  },
  {
   "cell_type": "markdown",
   "metadata": {},
   "source": [
    "### 高阶函数\n",
    "* <font color='red'>map(function, iterable, ...) 把一个函数function依次映射到序列或迭代器对象的每个元素上，并返回一个可迭代的map对象作为结果，map对象中每个元素是原序列中元素经过函数func处理后的结果。</font> \n"
   ]
  },
  {
   "cell_type": "code",
   "execution_count": 39,
   "metadata": {},
   "outputs": [
    {
     "name": "stdout",
     "output_type": "stream",
     "text": [
      "<map object at 0x000000000590BCC0> ['0', '1', '2', '3', '4']\n",
      "[16, 7, 8, 20]\n",
      "[0, 1, 2, 3, 4, 5, 6, 7, 8, 9]\n",
      "[5, 6, 7, 8, 9, 10, 11, 12, 13, 14]\n",
      "[0, 1, 2, 3, 4, 5, 6, 7, 8, 9]\n",
      "[10, 11, 12, 13, 14, 15, 16, 17, 18, 19]\n"
     ]
    }
   ],
   "source": [
    "m=map(str, range(5))  #把列表中元素转换为字符串\n",
    "\n",
    "print(m, list(m))\n",
    "\n",
    "m=map(lambda x: int(x)+5, [11.1, \"2\", 3, 15.9])\n",
    "print(list(m))\n",
    "\n",
    "\n",
    "def add5(v):              #单参数函数\n",
    "    return v+5\n",
    "\n",
    "s= list(range(10))\n",
    "m= map(add5, s)#把单参数函数映射到一个序列的所有元素\n",
    "print(s, list(m), sep='\\n')\n",
    "\n",
    "def add(x, y):            #可以接收2个参数的函数\n",
    "    return x+y\n",
    "\n",
    "m=map(add, s, [10]*10)\n",
    "print(s, list(m), sep='\\n')"
   ]
  },
  {
   "cell_type": "code",
   "execution_count": 36,
   "metadata": {},
   "outputs": [
    {
     "name": "stdout",
     "output_type": "stream",
     "text": [
      "[5, 6, 7, 8, 9]\n",
      "[0, 5, 10, 15, 20]\n"
     ]
    }
   ],
   "source": [
    "def myMap(iterable, op, value):  #自定义函数\n",
    "    if op not in '+-*/':             #实现序列与数字的四则运算\n",
    "        return 'Error operator'\n",
    "    func = lambda i:eval(repr(i)+op+repr(value))\n",
    "    return map(func, iterable)\n",
    "\n",
    "print(list(myMap(range(5), '+', 5)))\n",
    "print(list(myMap(range(5), '*', 5)))\n",
    "\n"
   ]
  },
  {
   "cell_type": "markdown",
   "metadata": {},
   "source": [
    "* reduce(function, iterable[, initializer]) 标准库functools中的函数reduce()可以将一个接收2个参数的函数以迭代累积的方式从左到右依次作用到一个序列或迭代器对象的所有元素上，并且允许指定一个初始值。\n",
    "\n",
    "\n",
    "![reduce.png](images/reduce.png)"
   ]
  },
  {
   "cell_type": "code",
   "execution_count": 48,
   "metadata": {},
   "outputs": [
    {
     "name": "stdout",
     "output_type": "stream",
     "text": [
      "45\n",
      "8\n",
      "45 45\n",
      "362880 362880\n",
      "acde\n",
      "[4, 5, 1, 2, 3]\n"
     ]
    }
   ],
   "source": [
    "from functools import reduce\n",
    "seq = list(range(1, 10))\n",
    "print(reduce(lambda x, y: x+y, seq))\n",
    "\n",
    "\n",
    "import operator                         #标准库operator提供了大量运算\n",
    "import math\n",
    "print(operator.add(3,5))                       #可以像普通函数一样直接调用\n",
    "print(reduce(operator.add, seq), sum(seq))               #使用add计算seq所有元素之和，相当于sum函数\n",
    "print(reduce(operator.mul, range(1, 10)), math.factorial(9))       #9的阶乘\n",
    "print(reduce(operator.add, ['a','c','d','e']))     #转换成字符串再累加\n",
    "print(reduce(operator.add, [[1, 2], [3]], [4,5])) #这个操作占用空间较大，慎用"
   ]
  },
  {
   "cell_type": "markdown",
   "metadata": {},
   "source": [
    "*  <font color='red'>filter(function, iterable) \n",
    "内置函数filter()将一个单参数函数作用到一个序列上，返回该序列中使得该函数返回值为True的那些元素组成的filter对象，如果指定函数为None，则返回序列中等价于True的元素。</font>\n"
   ]
  },
  {
   "cell_type": "code",
   "execution_count": 51,
   "metadata": {},
   "outputs": [
    {
     "name": "stdout",
     "output_type": "stream",
     "text": [
      "<filter object at 0x00000000058FAE10> ['foo', '41']\n",
      "[2, 4, 6, 8, 10, 12, 14, 16, 18, 20]\n"
     ]
    }
   ],
   "source": [
    "seq = ['foo', '41', '?!', '***']\n",
    "def func(x):\n",
    "    return x.isalnum()              #测试是否为字母或数字\n",
    "\n",
    "ff=filter(func, seq)                   #返回filter对象\n",
    "print(ff, list(ff))                    #把filter对象转换为列表\n",
    "\n",
    "print(list(filter(lambda x : x%2==0, range(1,21))))    #找出1-20之间的偶数        "
   ]
  },
  {
   "cell_type": "markdown",
   "metadata": {},
   "source": [
    "* <font color='red'>range([start,] end [, step] )， range()是Python开发中非常常用的一个内置函数，有range(stop)、range(start, stop)和range(start, stop, step)三种用法。该函数返回具有惰性求值特点的range对象，其中包含左闭右开区间**[start,end)**内以step为步长的整数。参数start默认为0，step默认为1。</font>\n"
   ]
  },
  {
   "cell_type": "code",
   "execution_count": 52,
   "metadata": {},
   "outputs": [
    {
     "name": "stdout",
     "output_type": "stream",
     "text": [
      "range(0, 5) [0, 1, 2, 3, 4]\n",
      "[1, 3, 5, 7, 9]\n",
      "[9, 7, 5, 3, 1]\n"
     ]
    }
   ],
   "source": [
    "\n",
    "r=range(5)              #start默认为0，step默认为1\n",
    "                      #range对象类似于元组，但节省内存   \n",
    "print(r, list(r))\n",
    " \n",
    "print(list(range(1, 10, 2)))          #指定起始值和步长\n",
    " \n",
    "print(list(range(9, 0, -2)))          #步长为负数时，start应比end大"
   ]
  },
  {
   "cell_type": "markdown",
   "metadata": {},
   "source": [
    "* <font color=red>zip()函数用来把多个可迭代对象中的元素压缩到一起，返回一个可迭代的zip对象，其中每个元素都是包含原来的多个可迭代对象对应位置上元素的元组，如同拉拉链一样。</font>\n"
   ]
  },
  {
   "cell_type": "code",
   "execution_count": 54,
   "metadata": {},
   "outputs": [
    {
     "name": "stdout",
     "output_type": "stream",
     "text": [
      "[('a', 1), ('b', 2), ('c', 3)]\n",
      "[('1', 'a', ','), ('2', 'b', '.'), ('3', 'c', '!')]\n",
      "[('a', '1'), ('b', '2'), ('c', '3'), ('d', '4')]\n"
     ]
    }
   ],
   "source": [
    "print(list(zip('abcd', [1, 2, 3])))             #压缩字符串和列表\n",
    "print(list(zip('123', 'abc', ',.!')))           #压缩3个序列\n",
    "x = zip('abcd', '1234')\n",
    "print(list(x))"
   ]
  },
  {
   "cell_type": "markdown",
   "metadata": {},
   "source": [
    "### 其他"
   ]
  },
  {
   "cell_type": "markdown",
   "metadata": {},
   "source": [
    "* eval(expression, globals=None, locals=None)，\n",
    "eval()函数将字符串expression当成有效的表达式来求值并返回计算结果。\n",
    "* exec(object[, globals[, locals]])，\n",
    "exec()函数可以将object（一般是字符串或者代码对象）作为python代码执行\n",
    "* compile(source, filename, mode, flags=0, dont_inherit=False, optimize=-1)，用于把Python代码编译成可被exec()或eval()函数执行的代码对象\n",
    "\n",
    "**需要特别注意：这两个函数都具有一定的危险性，被执行的表达式或者语句可能有潜在的危险性**"
   ]
  },
  {
   "cell_type": "code",
   "execution_count": 17,
   "metadata": {},
   "outputs": [
    {
     "name": "stdout",
     "output_type": "stream",
     "text": [
      "2\n",
      "8\n",
      "11\n",
      "abcabcabcabcabcabcabcabcabcabc\n",
      "6\n"
     ]
    }
   ],
   "source": [
    "x=1\n",
    "print(eval('x*2'))\n",
    "print(eval('2*y', {'y':4}))\n",
    "\n",
    "exec('x+=10\\nprint(x)')\n",
    "exec('print(a*10)',{'a':\"abc\"})\n",
    "code=compile('''x=2\\nx*=3\\nprint(x)''','','exec') \n",
    "exec(code)"
   ]
  },
  {
   "cell_type": "markdown",
   "metadata": {},
   "source": [
    "* all(iterable)  如果对于可迭代对象中所有元素x都等价于True，也就是对于所有元素x都有bool(x)等于True，则返回True。对于空的可迭代对象也返回True\n",
    "* any(iterable) 只要可迭代对象iterable中存在元素x使得bool(x)为True，则返回True。对于空的可迭代对象，返回False\n",
    "* callable(object) 测试对象obj是否可调用。类和函数是可调用的，包含__call__()方法的类的对象也是可调用的\n"
   ]
  },
  {
   "cell_type": "code",
   "execution_count": 19,
   "metadata": {},
   "outputs": [
    {
     "name": "stdout",
     "output_type": "stream",
     "text": [
      "5\n",
      "False True\n",
      "False True\n",
      "False True\n"
     ]
    }
   ],
   "source": [
    "print(abs(-5))\n",
    "print(all([1,2,3,4,0]), all([1,2,3,4]) ) \n",
    "print(any([False,0]), any([False,0,3]) )  \n",
    "\n",
    "print(callable('a'),callable(print))  \n"
   ]
  },
  {
   "cell_type": "markdown",
   "metadata": {},
   "source": [
    "### 例2-1：用户输入一个三位自然数，计算并输出其佰位、十位和个位上的数字。\n"
   ]
  },
  {
   "cell_type": "code",
   "execution_count": 58,
   "metadata": {},
   "outputs": [
    {
     "name": "stdout",
     "output_type": "stream",
     "text": [
      "请输入一个三位数：123\n",
      "1 2 3\n"
     ]
    }
   ],
   "source": [
    "x = input('请输入一个三位数：')\n",
    "x = int(x)\n",
    "a = x // 100\n",
    "b = x // 10 % 10\n",
    "c = x % 10\n",
    "print(a, b, c)\n"
   ]
  },
  {
   "cell_type": "code",
   "execution_count": null,
   "metadata": {
    "collapsed": true
   },
   "outputs": [],
   "source": [
    "x = input('请输入一个三位数：')\n",
    "x = int(x)\n",
    "a, b = divmod(x, 100)\n",
    "b, c = divmod(b, 10)\n",
    "print(a, b, c)\n"
   ]
  },
  {
   "cell_type": "code",
   "execution_count": 60,
   "metadata": {},
   "outputs": [
    {
     "name": "stdout",
     "output_type": "stream",
     "text": [
      "请输入一个三位数：234\n",
      "2 3 4\n"
     ]
    }
   ],
   "source": [
    "x = input('请输入一个三位数：')      #input得到一个字符串\n",
    "a, b, c = map(int, x)       #把x中的每个字符用int转为整数\n",
    "print(a, b, c)\n"
   ]
  },
  {
   "cell_type": "markdown",
   "metadata": {},
   "source": [
    "### 例2-2：已知三角形的两边长及其夹角，求第三边长。"
   ]
  },
  {
   "cell_type": "code",
   "execution_count": 61,
   "metadata": {},
   "outputs": [
    {
     "name": "stdout",
     "output_type": "stream",
     "text": [
      "输入两边长及夹角（度）：3 4 90\n",
      "c= 5.0\n"
     ]
    }
   ],
   "source": [
    "import math\n",
    "\n",
    "x = input('输入两边长及夹角（度）：')\n",
    "a, b, theta = map(float, x.split())\n",
    "c = math.sqrt(a**2 + b**2 - 2*a*b*math.cos(theta*math.pi/180))\n",
    "print('c=', c)\n"
   ]
  },
  {
   "cell_type": "markdown",
   "metadata": {},
   "source": [
    "### 例2-3：任意输入三个英文单词，按字典顺序输出。\n"
   ]
  },
  {
   "cell_type": "code",
   "execution_count": 62,
   "metadata": {},
   "outputs": [
    {
     "name": "stdout",
     "output_type": "stream",
     "text": [
      "x,y,z=a,c,d\n",
      "a c d\n"
     ]
    }
   ],
   "source": [
    "s = input('x,y,z=')\n",
    "x, y, z = sorted(s.split(','))\n",
    "print(x, y, z)\n"
   ]
  },
  {
   "cell_type": "markdown",
   "metadata": {},
   "source": []
  },
  {
   "cell_type": "code",
   "execution_count": null,
   "metadata": {
    "collapsed": true
   },
   "outputs": [],
   "source": []
  }
 ],
 "metadata": {
  "kernelspec": {
   "display_name": "Python 3",
   "language": "python",
   "name": "python3"
  },
  "language_info": {
   "codemirror_mode": {
    "name": "ipython",
    "version": 3
   },
   "file_extension": ".py",
   "mimetype": "text/x-python",
   "name": "python",
   "nbconvert_exporter": "python",
   "pygments_lexer": "ipython3",
   "version": "3.6.3"
  }
 },
 "nbformat": 4,
 "nbformat_minor": 2
}
