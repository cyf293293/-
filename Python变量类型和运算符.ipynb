{
 "cells": [
  {
   "cell_type": "markdown",
   "metadata": {},
   "source": [
    "## 标识符\n",
    "### 用途\n",
    "* 值，变量，函数，模块等的名字\n",
    "\n",
    "### 命名规则\n",
    "* 可以任意长\n",
    "* 包含数字和字母、下划线\n",
    "* 但首个必须是字母或下划线\n",
    "* 大小写敏感（区分大小写）\n",
    "* 标识符不能是保留字\n",
    "* 一般Python解释器使用 \\_ 或 \\__ 作为内部变量首字符\n",
    "\n",
    "[更多](http://python.usyiyi.cn/translate/python_352/reference/lexical_analysis.html#identifiers)"
   ]
  },
  {
   "cell_type": "code",
   "execution_count": 2,
   "metadata": {},
   "outputs": [
    {
     "name": "stdout",
     "output_type": "stream",
     "text": [
      "1 2 x-man\n"
     ]
    }
   ],
   "source": [
    "x = 1\n",
    "y = 2\n",
    "my_name = 'x-man'\n",
    "# class = 'Advanced '\n",
    "# 76trombones = 'big parade'\n",
    "# more@ = 1000000\n",
    "print(x,y,my_name)"
   ]
  },
  {
   "cell_type": "markdown",
   "metadata": {
    "collapsed": true
   },
   "source": [
    "## 变量\n",
    "### 定义\n",
    "* 可以引用存储在内存中值（数据）的标识符。\n",
    "* 主要用于保存计算结果\n",
    "\n",
    "### 用法\n",
    "* 变量名称=值（数值、表达式最后结果、函数返回值）"
   ]
  },
  {
   "cell_type": "code",
   "execution_count": 66,
   "metadata": {
    "collapsed": true
   },
   "outputs": [],
   "source": [
    "A=80\n",
    "B=1+A*5-2\n",
    "C=max(10,20)"
   ]
  },
  {
   "cell_type": "code",
   "execution_count": 67,
   "metadata": {},
   "outputs": [
    {
     "name": "stdout",
     "output_type": "stream",
     "text": [
      "80 399 20\n"
     ]
    }
   ],
   "source": [
    "print(A,B,C)"
   ]
  },
  {
   "cell_type": "markdown",
   "metadata": {},
   "source": [
    "### 注意\n",
    "* python的变量无需定义，其类型取决于所赋的值\n",
    "* 可用内置的type函数查看变量的类型\n",
    "* 可用内置的id函数查看变量所存储的object的id，"
   ]
  },
  {
   "cell_type": "code",
   "execution_count": 68,
   "metadata": {},
   "outputs": [
    {
     "name": "stdout",
     "output_type": "stream",
     "text": [
      "<class 'int'> 1524774816\n",
      "<class 'int'> 1524774816\n",
      "<class 'float'> 58368272\n",
      "<class 'float'> 51760496\n",
      "<class 'str'> 4796928\n",
      "<class 'str'> 4796928\n"
     ]
    }
   ],
   "source": [
    "a=10\n",
    "print(type(a),id(a))\n",
    "b=10\n",
    "print(type(b),id(b))\n",
    "\n",
    "a=10.1\n",
    "print(type(a),id(a))\n",
    "b=10.1\n",
    "print(type(b),id(b))\n",
    "\n",
    "a='s'\n",
    "print(type(a),id(a))\n",
    "b='s'\n",
    "print(type(b),id(b))"
   ]
  },
  {
   "cell_type": "markdown",
   "metadata": {},
   "source": [
    "## 输入输出\n",
    "### 输入\n",
    "* input([提示语句])     \n",
    "* 输入的内容会被当作字符串处理\n",
    "* 可利用eval函数将其转换为合适的数值类型"
   ]
  },
  {
   "cell_type": "code",
   "execution_count": 69,
   "metadata": {},
   "outputs": [
    {
     "name": "stdout",
     "output_type": "stream",
     "text": [
      "请输入一个数5\n",
      "5 <class 'str'>\n",
      "5 <class 'int'>\n"
     ]
    }
   ],
   "source": [
    "s=input(\"请输入一个数\")\n",
    "print(s,type(s))\n",
    "d=eval(s)          \n",
    "print(d,type(d))"
   ]
  },
  {
   "cell_type": "markdown",
   "metadata": {
    "collapsed": true
   },
   "source": [
    "### 输出\n",
    "* print(*objects, sep=' ', end='\\n', file=sys.stdout, flush=False) \n",
    "* objects为要输出的数据，可以是一个或多个数据，\n",
    "* 当有多个数据需要输出时，sep为分割符\n",
    "* end为输出全部数据后的额外输出的结束符，默认为换行，所以默认情况下，print输出完数据后会换行"
   ]
  },
  {
   "cell_type": "code",
   "execution_count": 70,
   "metadata": {},
   "outputs": [
    {
     "name": "stdout",
     "output_type": "stream",
     "text": [
      "hello 1234\n",
      "hello+1+2+3+4\n",
      "hello 1234world 5678\n"
     ]
    }
   ],
   "source": [
    "print(\"hello\",1234)\n",
    "print(\"hello\",1,2,3,4, sep='+')\n",
    "print(\"hello\",1234, end='')     # end被设置为空字符''，所以输出完hello和1234后不会换行\n",
    "print(\"world\",5678)          "
   ]
  },
  {
   "cell_type": "markdown",
   "metadata": {},
   "source": [
    "## Python的常用内置类型\n",
    "* Booleans［布尔型］ 或为 True［真］ 或为 False［假］。\n",
    "* Numbers［数值型］ 可以是 \n",
    "  * Integers［整数\n",
    "  * Floats［浮点数］\n",
    "  * Fractions［分数］（1/2 和 2/3）\n",
    "  * Complex Number［复数］。\n",
    "* Strings［字符串型］ 是 Unicode 字符序列，例如： 一份 html 文档。\n",
    "* Bytes［字节］ 和 Byte Arrays［字节数组］， 例如: 一份 jpeg 图像文件。\n"
   ]
  },
  {
   "cell_type": "markdown",
   "metadata": {},
   "source": [
    "### 布尔型\n",
    "* 逻辑值：True  False"
   ]
  },
  {
   "cell_type": "markdown",
   "metadata": {},
   "source": [
    "### 关系运算符\n",
    "*  \\>，  <，    ==，   <= ，   >=， 和C语言基本一致。\n",
    "\n",
    "### 逻辑运算符\n",
    "￥ and， or， not，  和C语言基本一致。"
   ]
  },
  {
   "cell_type": "code",
   "execution_count": 71,
   "metadata": {},
   "outputs": [
    {
     "name": "stdout",
     "output_type": "stream",
     "text": [
      "False\n",
      "True False\n"
     ]
    }
   ],
   "source": [
    "a=5\n",
    "b=6\n",
    "s=a>10 and b<10\n",
    "print(s)\n",
    "s=a>10 or b<10\n",
    "print(s, not s)"
   ]
  },
  {
   "cell_type": "markdown",
   "metadata": {},
   "source": [
    "### 整数\n",
    "* Python的整数相当于数学里的整数。\n",
    "* Pyhon3.x 的整数类型精度无限，可表示任意大的整数。\n",
    "\n",
    "### 浮点数\n",
    "* 浮点数相当于数学里的小数。例如： 3.4, 3.2e19(相当于数学里3.2乘以10的19次方)\n",
    "* 由于受到计算机硬件的的限制，Python的浮点类型精度有限，一般和C语言的Double类型相同。"
   ]
  },
  {
   "cell_type": "code",
   "execution_count": 72,
   "metadata": {},
   "outputs": [
    {
     "name": "stdout",
     "output_type": "stream",
     "text": [
      "<class 'int'> 9999999999999999999 99999999999999999980000000000000000001 999999999999999999700000000000000000029999999999999999999\n"
     ]
    }
   ],
   "source": [
    "s=9999999999999999999\n",
    "print(type(s),s,s*s,s*s*s)"
   ]
  },
  {
   "cell_type": "code",
   "execution_count": 73,
   "metadata": {},
   "outputs": [
    {
     "name": "stdout",
     "output_type": "stream",
     "text": [
      "<class 'float'> 1e+19 1e+38 1e+57\n",
      "<class 'float'> 80000000000.0 6.4e+21 5.12e+32\n"
     ]
    }
   ],
   "source": [
    "s=9999999999999999999.0\n",
    "print(type(s),s,s*s,s*s*s)\n",
    "s=8e10\n",
    "print(type(s),s,s*s,s*s*s)"
   ]
  },
  {
   "cell_type": "markdown",
   "metadata": {},
   "source": [
    "### 加减法\n",
    "* +，-"
   ]
  },
  {
   "cell_type": "code",
   "execution_count": 81,
   "metadata": {},
   "outputs": [
    {
     "name": "stdout",
     "output_type": "stream",
     "text": [
      "7 -1\n"
     ]
    }
   ],
   "source": [
    "x=3\n",
    "y=4\n",
    "print(x+y,x-y)"
   ]
  },
  {
   "cell_type": "markdown",
   "metadata": {},
   "source": [
    "### 除法\n",
    "* **/** 运算符执行**浮点数除法**。即无论是否能整除，都将得到一个浮点数。\n",
    "* **//** 运算符执行古怪的**整数除法**。即无论是否能整除，都将得到一个整数（或者小数位为0的浮点数）。如果不能整除，则将小数位舍去（不是四舍五入），要特别注意这一点。\n",
    "* **%**为**求余运算符**。因为11除以4的余数是3，所以11%4的结果为3。\n"
   ]
  },
  {
   "cell_type": "code",
   "execution_count": 74,
   "metadata": {},
   "outputs": [
    {
     "name": "stdout",
     "output_type": "stream",
     "text": [
      "0.5 <class 'float'>\n",
      "0 <class 'int'>\n",
      "0.0 <class 'float'>\n"
     ]
    }
   ],
   "source": [
    "s=1/2\n",
    "print(s,type(s))\n",
    "s=1//2\n",
    "print(s,type(s))\n",
    "s=1.0//2.0\n",
    "print(s,type(s))"
   ]
  },
  {
   "cell_type": "markdown",
   "metadata": {},
   "source": [
    "### 乘法\n",
    "* **\\***为乘法运算符\n",
    "* **\\*\\*** 为幂运算符，a**n 相当于n个a相乘 。"
   ]
  },
  {
   "cell_type": "markdown",
   "metadata": {},
   "source": []
  },
  {
   "cell_type": "markdown",
   "metadata": {},
   "source": [
    "### 问题1\n",
    "### 根据用户输入的圆半径，求解并输出圆的面积？\n",
    "\n",
    "* 输入：圆的半径值（必须是数值）\n",
    "* 输出：圆的面积值\n",
    "* 方法：根据输入的合法半径$r$，利用面积公式$S=\\pi*r^2$求解\n"
   ]
  },
  {
   "cell_type": "code",
   "execution_count": null,
   "metadata": {
    "collapsed": true
   },
   "outputs": [],
   "source": []
  },
  {
   "cell_type": "markdown",
   "metadata": {},
   "source": [
    "### 问题2\n",
    "### 根据用户输入的两个点坐标，求解它们之间的距离？\n",
    "\n",
    "* 输入：两点坐标，$(x1,y1)$和$(x2,y2)$\n",
    "* 输出：两点之间的距离\n",
    "* 方法：根据输入的坐标点，利用距离公式$D=\\sqrt{(x1-x2)^2+(y1-y2)^2}$求解\n"
   ]
  },
  {
   "cell_type": "code",
   "execution_count": null,
   "metadata": {
    "collapsed": true
   },
   "outputs": [],
   "source": []
  },
  {
   "cell_type": "markdown",
   "metadata": {},
   "source": [
    "### 字符串类型\n",
    "* <font color=\"#FF0000\">“文本”</font> 通常指显示在屏幕上的字符，文字或者其他的记号\n",
    "* 计算机不能直接处理这些字符和标记，它们只认识数字。\n",
    "* 所以从屏幕上的“文本”都是以某种字符编码(character encoding)的方式保存的，通常情况下，一个编码对应一个文字。\n",
    "* 使用时，计算机需要根据编码找到相应的符号输出到屏幕上。\n",
    "* 在不同的编码方式里，一个文字可能会被编成不同的数字，反之，一组数字在不同的编码方式下，可能会被解释成不同的文字。"
   ]
  },
  {
   "cell_type": "markdown",
   "metadata": {},
   "source": [
    "* Python3字符串默认是以utf-8方式编码的常量。\n",
    "* 字符串可以通过单引号(')或者双引号(\")来定义。\n",
    "* 内置函数len()可返回字符串的长度，即字符的个数。\n",
    "* 可以使用+操作符来连接(concatenate)字符串。 \n",
    "* chr函数将数字编码转换成单个unicode字符； ord函数将单个字符转化为数字编码\n",
    "* str函数将数字转换成包含数字字符的字符串(如123转成\"123\")；eval则可以将包含数字字符的字符串转化为数字(如\"123\"转成123) "
   ]
  },
  {
   "cell_type": "code",
   "execution_count": 13,
   "metadata": {},
   "outputs": [
    {
     "name": "stdout",
     "output_type": "stream",
     "text": [
      "b'\\xe5\\x9b\\xbd'\n",
      "b'\\xe5\\x9b\\xbd'\n",
      "b'\\xb9\\xfa'\n",
      "65 22269 23478\n",
      "A 国 0b101011011111101\n",
      "国\n"
     ]
    }
   ],
   "source": [
    "print(\"国\".encode())\n",
    "print(\"国\".encode(\"utf-8\"))\n",
    "print(\"国\".encode(\"gbk\"))\n",
    "print(ord('A'), ord('国'),ord('家'))\n",
    "print(chr(65), chr(22269),bin(22269))\n",
    "print(b'\\xe5\\x9b\\xbd'.decode())"
   ]
  },
  {
   "cell_type": "code",
   "execution_count": 14,
   "metadata": {},
   "outputs": [
    {
     "name": "stdout",
     "output_type": "stream",
     "text": [
      "144 <class 'int'> 144 <class 'str'>\n",
      "1234 <class 'str'> 1234 <class 'int'>\n",
      "288 144144\n",
      "12341234 2468\n"
     ]
    }
   ],
   "source": [
    "a=12*12\n",
    "b=\"1234\"\n",
    "c=str(a)\n",
    "d=eval(b)\n",
    "print(a,type(a),c,type(c))\n",
    "print(b,type(b),d,type(d))\n",
    "print(a*2,c*2)\n",
    "print(b*2,d*2)"
   ]
  },
  {
   "cell_type": "code",
   "execution_count": 82,
   "metadata": {},
   "outputs": [
    {
     "name": "stdout",
     "output_type": "stream",
     "text": [
      "x+y= 7\n",
      "x-y= -1\n"
     ]
    }
   ],
   "source": [
    "x=3\n",
    "y=4\n",
    "print(\"x+y=\",x+y)          # 引号里面的所有内容包括x和y都是是字符串，引号外面的x和y是变量，其值分别为3和4    \n",
    "print('x-y=',x-y)"
   ]
  },
  {
   "cell_type": "code",
   "execution_count": 76,
   "metadata": {},
   "outputs": [
    {
     "name": "stdout",
     "output_type": "stream",
     "text": [
      "计算机编程\n"
     ]
    }
   ],
   "source": [
    "s=\"计算机\"\n",
    "t=\"编程\"\n",
    "m=s+t\n",
    "print(m)"
   ]
  },
  {
   "cell_type": "code",
   "execution_count": 77,
   "metadata": {},
   "outputs": [
    {
     "name": "stdout",
     "output_type": "stream",
     "text": [
      "'python'\"编程\"\n"
     ]
    }
   ],
   "source": [
    "s=\"'python'\"\n",
    "t='\"编程\"'\n",
    "m=s+t\n",
    "print(m)"
   ]
  },
  {
   "cell_type": "markdown",
   "metadata": {},
   "source": [
    "### 转义符\n",
    "* 用来替代一些特殊字符，例如换行，tab，单双引号等等，通常是有**\\\\**开头的若干个字符组成。\n",
    "![转义符](/files/images/zhuanyifu.png)\n",
    "* 如果在字符串前面加上r或者R，则转义符失效。这样的字符串被称为raw string"
   ]
  },
  {
   "cell_type": "code",
   "execution_count": 78,
   "metadata": {},
   "outputs": [
    {
     "name": "stdout",
     "output_type": "stream",
     "text": [
      "Welcome \t to \n",
      " ' Python '\n",
      " world\n"
     ]
    }
   ],
   "source": [
    "print(\"Welcome \\t to \\n \\' Python \\'\\n world\")"
   ]
  },
  {
   "cell_type": "code",
   "execution_count": 79,
   "metadata": {},
   "outputs": [
    {
     "name": "stdout",
     "output_type": "stream",
     "text": [
      "Welcome \\t to \\n \\' Python \\'\\n world\n"
     ]
    }
   ],
   "source": [
    "print(r\"Welcome \\t to \\n \\' Python \\'\\n world\")"
   ]
  },
  {
   "cell_type": "markdown",
   "metadata": {},
   "source": [
    "### None\n",
    "* None 是 Python 的一个特殊常量。它是一个空值。可以赋给任何变量。\n",
    "* None 可以转化成False， 但两者并不等价（反之不成立）。not None转化为True。"
   ]
  },
  {
   "cell_type": "code",
   "execution_count": 80,
   "metadata": {},
   "outputs": [
    {
     "name": "stdout",
     "output_type": "stream",
     "text": [
      "3 <class 'int'>\n",
      "None <class 'NoneType'>\n"
     ]
    }
   ],
   "source": [
    "a=3\n",
    "print(a,type(a))\n",
    "a=None\n",
    "print(a,type(a))"
   ]
  },
  {
   "cell_type": "code",
   "execution_count": null,
   "metadata": {
    "collapsed": true
   },
   "outputs": [],
   "source": []
  }
 ],
 "metadata": {
  "kernelspec": {
   "display_name": "Python 3",
   "language": "python",
   "name": "python3"
  },
  "language_info": {
   "codemirror_mode": {
    "name": "ipython",
    "version": 3
   },
   "file_extension": ".py",
   "mimetype": "text/x-python",
   "name": "python",
   "nbconvert_exporter": "python",
   "pygments_lexer": "ipython3",
   "version": "3.7.3"
  }
 },
 "nbformat": 4,
 "nbformat_minor": 1
}
